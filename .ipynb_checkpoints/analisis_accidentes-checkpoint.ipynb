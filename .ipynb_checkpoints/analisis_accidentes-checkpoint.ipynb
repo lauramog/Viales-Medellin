{
 "cells": [
  {
   "cell_type": "code",
   "execution_count": null,
   "metadata": {},
   "outputs": [],
   "source": [
    "import pandas as pd\n",
    "from datetime import datetime\n",
    "import folium\n",
    "import geopandas as gpd\n",
    "import pytz\n",
    "\n",
    "\n",
    "from pandas.api.types import CategoricalDtype"
   ]
  },
  {
   "cell_type": "code",
   "execution_count": null,
   "metadata": {},
   "outputs": [],
   "source": [
    "#FUENTE: http://medata.gov.co/dataset/incidentes-viales\n",
    "df = pd.read_csv('incidentes_viales.csv',delimiter=\";\")"
   ]
  },
  {
   "cell_type": "code",
   "execution_count": null,
   "metadata": {},
   "outputs": [],
   "source": [
    "df.head(10)"
   ]
  },
  {
   "cell_type": "code",
   "execution_count": null,
   "metadata": {},
   "outputs": [],
   "source": [
    "df.columns"
   ]
  },
  {
   "cell_type": "code",
   "execution_count": null,
   "metadata": {},
   "outputs": [],
   "source": [
    "df.info()"
   ]
  },
  {
   "cell_type": "code",
   "execution_count": null,
   "metadata": {},
   "outputs": [],
   "source": [
    "df['CLASE_ACCIDENTE'].value_counts()"
   ]
  },
  {
   "cell_type": "code",
   "execution_count": null,
   "metadata": {},
   "outputs": [],
   "source": [
    "df['CLASE_ACCIDENTE'] = df['CLASE_ACCIDENTE'].replace('Caída Ocupante'   , 'Caida Ocupante')\n",
    "df['CLASE_ACCIDENTE'] = df['CLASE_ACCIDENTE'].replace('Caida de Ocupante', 'Caida Ocupante')\n",
    "df['CLASE_ACCIDENTE'] = df['CLASE_ACCIDENTE'].replace('Caída de Ocupante', 'Caida Ocupante')\n",
    "#----\n",
    "df['CLASE_ACCIDENTE'] = df['CLASE_ACCIDENTE'].replace('Caida Ocupante',   'caida ocupante')\n",
    "df['CLASE_ACCIDENTE'] = df['CLASE_ACCIDENTE'].replace('Caida Ocupante',   'caida ocupante')\n"
   ]
  },
  {
   "cell_type": "code",
   "execution_count": null,
   "metadata": {},
   "outputs": [],
   "source": [
    "df['GRAVEDAD_ACCIDENTE']"
   ]
  },
  {
   "cell_type": "code",
   "execution_count": null,
   "metadata": {},
   "outputs": [],
   "source": [
    "df['GRAVEDAD_ACCIDENTE'].value_counts()"
   ]
  },
  {
   "cell_type": "code",
   "execution_count": null,
   "metadata": {},
   "outputs": [],
   "source": [
    "df['COMUNA'].value_counts()"
   ]
  },
  {
   "cell_type": "code",
   "execution_count": null,
   "metadata": {},
   "outputs": [],
   "source": [
    "df['BARRIO'].value_counts()"
   ]
  },
  {
   "cell_type": "markdown",
   "metadata": {},
   "source": [
    "# Análisis temporal"
   ]
  },
  {
   "cell_type": "code",
   "execution_count": null,
   "metadata": {},
   "outputs": [],
   "source": [
    "df['FECHA_ACCIDENTES']"
   ]
  },
  {
   "cell_type": "code",
   "execution_count": null,
   "metadata": {},
   "outputs": [],
   "source": [
    "import dateutil.parser\n",
    "from dateutil.tz import gettz\n",
    "\n",
    "\n",
    "\n",
    "\n",
    "df.FECHA_ACCIDENTES = df.FECHA_ACCIDENTES.apply(lambda x :dateutil.parser.isoparse(x))"
   ]
  },
  {
   "cell_type": "code",
   "execution_count": null,
   "metadata": {},
   "outputs": [],
   "source": [
    "df.FECHA_ACCIDENTES = df.FECHA_ACCIDENTES.apply(lambda x:  x.astimezone( gettz('EST')))"
   ]
  },
  {
   "cell_type": "code",
   "execution_count": null,
   "metadata": {},
   "outputs": [],
   "source": [
    "df.FECHA_ACCIDENTES"
   ]
  },
  {
   "cell_type": "code",
   "execution_count": null,
   "metadata": {},
   "outputs": [],
   "source": [
    "mes = df['FECHA_ACCIDENTES'].dt.to_period('M')\n",
    "\n",
    "accidentes_mes = df.groupby(mes).size().plot()"
   ]
  },
  {
   "cell_type": "code",
   "execution_count": null,
   "metadata": {},
   "outputs": [],
   "source": [
    "df['FECHA_ACCIDENTES'].dt.hour\n"
   ]
  },
  {
   "cell_type": "code",
   "execution_count": null,
   "metadata": {},
   "outputs": [],
   "source": [
    "accidentes_por_hora = df.groupby(df['FECHA_ACCIDENTES'].dt.hour).size()\n",
    "accidentes_por_hora.plot.bar()"
   ]
  },
  {
   "cell_type": "code",
   "execution_count": null,
   "metadata": {},
   "outputs": [],
   "source": [
    "df['DIA'] = df['FECHA_ACCIDENTES'].dt.day_name()"
   ]
  },
  {
   "cell_type": "code",
   "execution_count": null,
   "metadata": {},
   "outputs": [],
   "source": [
    "month_to_int = {'Monday':'Lunes','Tuesday':'Martes','Wednesday':'Miercoles','Thursday':\n",
    "                'Jueves','Friday':'Viernes','Saturday':'Sabado','Sunday':'Domingo'}"
   ]
  },
  {
   "cell_type": "code",
   "execution_count": null,
   "metadata": {},
   "outputs": [],
   "source": [
    "df['DIA'].replace(month_to_int,inplace=True)\n"
   ]
  },
  {
   "cell_type": "code",
   "execution_count": null,
   "metadata": {},
   "outputs": [],
   "source": [
    "df['DIA']"
   ]
  },
  {
   "cell_type": "code",
   "execution_count": null,
   "metadata": {},
   "outputs": [],
   "source": [
    "dia_accidentes = df.groupby(df['DIA'],\n",
    "                            sort=False).size().plot(kind='bar')"
   ]
  },
  {
   "cell_type": "markdown",
   "metadata": {},
   "source": [
    "# numero de accidentes por cada Barrio."
   ]
  },
  {
   "cell_type": "code",
   "execution_count": null,
   "metadata": {},
   "outputs": [],
   "source": [
    "df['COMUNA']"
   ]
  },
  {
   "cell_type": "code",
   "execution_count": null,
   "metadata": {},
   "outputs": [],
   "source": [
    "df['COMUNA'].value_counts()"
   ]
  },
  {
   "cell_type": "code",
   "execution_count": null,
   "metadata": {},
   "outputs": [],
   "source": [
    "#accidentes_comuna = df.groupby('COMUNA').size().nlargest(20)\n",
    "#accidentes_comuna.plot.bar()"
   ]
  }
 ],
 "metadata": {
  "kernelspec": {
   "display_name": "Python 3",
   "language": "python",
   "name": "python3"
  },
  "language_info": {
   "codemirror_mode": {
    "name": "ipython",
    "version": 3
   },
   "file_extension": ".py",
   "mimetype": "text/x-python",
   "name": "python",
   "nbconvert_exporter": "python",
   "pygments_lexer": "ipython3",
   "version": "3.8.5"
  }
 },
 "nbformat": 4,
 "nbformat_minor": 2
}
