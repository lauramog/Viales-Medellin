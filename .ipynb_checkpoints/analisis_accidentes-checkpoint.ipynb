{
 "cells": [
  {
   "cell_type": "code",
   "execution_count": 1,
   "metadata": {},
   "outputs": [],
   "source": [
    "import pandas as pd\n",
    "from datetime import datetime\n",
    "import folium\n",
    "import geopandas as gpd\n",
    "\n",
    "from pandas.api.types import CategoricalDtype"
   ]
  },
  {
   "cell_type": "code",
   "execution_count": 2,
   "metadata": {},
   "outputs": [
    {
     "ename": "ParserError",
     "evalue": "Error tokenizing data. C error: Expected 2 fields in line 9692, saw 3\n",
     "output_type": "error",
     "traceback": [
      "\u001b[0;31m---------------------------------------------------------------------------\u001b[0m",
      "\u001b[0;31mParserError\u001b[0m                               Traceback (most recent call last)",
      "\u001b[0;32m<ipython-input-2-11fac4b82604>\u001b[0m in \u001b[0;36m<module>\u001b[0;34m\u001b[0m\n\u001b[0;32m----> 1\u001b[0;31m \u001b[0mincidentes\u001b[0m \u001b[0;34m=\u001b[0m \u001b[0mpd\u001b[0m\u001b[0;34m.\u001b[0m\u001b[0mread_csv\u001b[0m\u001b[0;34m(\u001b[0m\u001b[0;34m'incidentes_viales.csv'\u001b[0m\u001b[0;34m)\u001b[0m\u001b[0;34m\u001b[0m\u001b[0;34m\u001b[0m\u001b[0m\n\u001b[0m",
      "\u001b[0;32m//anaconda2/envs/ipykernel_py3/lib/python3.8/site-packages/pandas/io/parsers.py\u001b[0m in \u001b[0;36mread_csv\u001b[0;34m(filepath_or_buffer, sep, delimiter, header, names, index_col, usecols, squeeze, prefix, mangle_dupe_cols, dtype, engine, converters, true_values, false_values, skipinitialspace, skiprows, skipfooter, nrows, na_values, keep_default_na, na_filter, verbose, skip_blank_lines, parse_dates, infer_datetime_format, keep_date_col, date_parser, dayfirst, cache_dates, iterator, chunksize, compression, thousands, decimal, lineterminator, quotechar, quoting, doublequote, escapechar, comment, encoding, dialect, error_bad_lines, warn_bad_lines, delim_whitespace, low_memory, memory_map, float_precision)\u001b[0m\n\u001b[1;32m    684\u001b[0m     )\n\u001b[1;32m    685\u001b[0m \u001b[0;34m\u001b[0m\u001b[0m\n\u001b[0;32m--> 686\u001b[0;31m     \u001b[0;32mreturn\u001b[0m \u001b[0m_read\u001b[0m\u001b[0;34m(\u001b[0m\u001b[0mfilepath_or_buffer\u001b[0m\u001b[0;34m,\u001b[0m \u001b[0mkwds\u001b[0m\u001b[0;34m)\u001b[0m\u001b[0;34m\u001b[0m\u001b[0;34m\u001b[0m\u001b[0m\n\u001b[0m\u001b[1;32m    687\u001b[0m \u001b[0;34m\u001b[0m\u001b[0m\n\u001b[1;32m    688\u001b[0m \u001b[0;34m\u001b[0m\u001b[0m\n",
      "\u001b[0;32m//anaconda2/envs/ipykernel_py3/lib/python3.8/site-packages/pandas/io/parsers.py\u001b[0m in \u001b[0;36m_read\u001b[0;34m(filepath_or_buffer, kwds)\u001b[0m\n\u001b[1;32m    456\u001b[0m \u001b[0;34m\u001b[0m\u001b[0m\n\u001b[1;32m    457\u001b[0m     \u001b[0;32mtry\u001b[0m\u001b[0;34m:\u001b[0m\u001b[0;34m\u001b[0m\u001b[0;34m\u001b[0m\u001b[0m\n\u001b[0;32m--> 458\u001b[0;31m         \u001b[0mdata\u001b[0m \u001b[0;34m=\u001b[0m \u001b[0mparser\u001b[0m\u001b[0;34m.\u001b[0m\u001b[0mread\u001b[0m\u001b[0;34m(\u001b[0m\u001b[0mnrows\u001b[0m\u001b[0;34m)\u001b[0m\u001b[0;34m\u001b[0m\u001b[0;34m\u001b[0m\u001b[0m\n\u001b[0m\u001b[1;32m    459\u001b[0m     \u001b[0;32mfinally\u001b[0m\u001b[0;34m:\u001b[0m\u001b[0;34m\u001b[0m\u001b[0;34m\u001b[0m\u001b[0m\n\u001b[1;32m    460\u001b[0m         \u001b[0mparser\u001b[0m\u001b[0;34m.\u001b[0m\u001b[0mclose\u001b[0m\u001b[0;34m(\u001b[0m\u001b[0;34m)\u001b[0m\u001b[0;34m\u001b[0m\u001b[0;34m\u001b[0m\u001b[0m\n",
      "\u001b[0;32m//anaconda2/envs/ipykernel_py3/lib/python3.8/site-packages/pandas/io/parsers.py\u001b[0m in \u001b[0;36mread\u001b[0;34m(self, nrows)\u001b[0m\n\u001b[1;32m   1184\u001b[0m     \u001b[0;32mdef\u001b[0m \u001b[0mread\u001b[0m\u001b[0;34m(\u001b[0m\u001b[0mself\u001b[0m\u001b[0;34m,\u001b[0m \u001b[0mnrows\u001b[0m\u001b[0;34m=\u001b[0m\u001b[0;32mNone\u001b[0m\u001b[0;34m)\u001b[0m\u001b[0;34m:\u001b[0m\u001b[0;34m\u001b[0m\u001b[0;34m\u001b[0m\u001b[0m\n\u001b[1;32m   1185\u001b[0m         \u001b[0mnrows\u001b[0m \u001b[0;34m=\u001b[0m \u001b[0m_validate_integer\u001b[0m\u001b[0;34m(\u001b[0m\u001b[0;34m\"nrows\"\u001b[0m\u001b[0;34m,\u001b[0m \u001b[0mnrows\u001b[0m\u001b[0;34m)\u001b[0m\u001b[0;34m\u001b[0m\u001b[0;34m\u001b[0m\u001b[0m\n\u001b[0;32m-> 1186\u001b[0;31m         \u001b[0mret\u001b[0m \u001b[0;34m=\u001b[0m \u001b[0mself\u001b[0m\u001b[0;34m.\u001b[0m\u001b[0m_engine\u001b[0m\u001b[0;34m.\u001b[0m\u001b[0mread\u001b[0m\u001b[0;34m(\u001b[0m\u001b[0mnrows\u001b[0m\u001b[0;34m)\u001b[0m\u001b[0;34m\u001b[0m\u001b[0;34m\u001b[0m\u001b[0m\n\u001b[0m\u001b[1;32m   1187\u001b[0m \u001b[0;34m\u001b[0m\u001b[0m\n\u001b[1;32m   1188\u001b[0m         \u001b[0;31m# May alter columns / col_dict\u001b[0m\u001b[0;34m\u001b[0m\u001b[0;34m\u001b[0m\u001b[0;34m\u001b[0m\u001b[0m\n",
      "\u001b[0;32m//anaconda2/envs/ipykernel_py3/lib/python3.8/site-packages/pandas/io/parsers.py\u001b[0m in \u001b[0;36mread\u001b[0;34m(self, nrows)\u001b[0m\n\u001b[1;32m   2143\u001b[0m     \u001b[0;32mdef\u001b[0m \u001b[0mread\u001b[0m\u001b[0;34m(\u001b[0m\u001b[0mself\u001b[0m\u001b[0;34m,\u001b[0m \u001b[0mnrows\u001b[0m\u001b[0;34m=\u001b[0m\u001b[0;32mNone\u001b[0m\u001b[0;34m)\u001b[0m\u001b[0;34m:\u001b[0m\u001b[0;34m\u001b[0m\u001b[0;34m\u001b[0m\u001b[0m\n\u001b[1;32m   2144\u001b[0m         \u001b[0;32mtry\u001b[0m\u001b[0;34m:\u001b[0m\u001b[0;34m\u001b[0m\u001b[0;34m\u001b[0m\u001b[0m\n\u001b[0;32m-> 2145\u001b[0;31m             \u001b[0mdata\u001b[0m \u001b[0;34m=\u001b[0m \u001b[0mself\u001b[0m\u001b[0;34m.\u001b[0m\u001b[0m_reader\u001b[0m\u001b[0;34m.\u001b[0m\u001b[0mread\u001b[0m\u001b[0;34m(\u001b[0m\u001b[0mnrows\u001b[0m\u001b[0;34m)\u001b[0m\u001b[0;34m\u001b[0m\u001b[0;34m\u001b[0m\u001b[0m\n\u001b[0m\u001b[1;32m   2146\u001b[0m         \u001b[0;32mexcept\u001b[0m \u001b[0mStopIteration\u001b[0m\u001b[0;34m:\u001b[0m\u001b[0;34m\u001b[0m\u001b[0;34m\u001b[0m\u001b[0m\n\u001b[1;32m   2147\u001b[0m             \u001b[0;32mif\u001b[0m \u001b[0mself\u001b[0m\u001b[0;34m.\u001b[0m\u001b[0m_first_chunk\u001b[0m\u001b[0;34m:\u001b[0m\u001b[0;34m\u001b[0m\u001b[0;34m\u001b[0m\u001b[0m\n",
      "\u001b[0;32mpandas/_libs/parsers.pyx\u001b[0m in \u001b[0;36mpandas._libs.parsers.TextReader.read\u001b[0;34m()\u001b[0m\n",
      "\u001b[0;32mpandas/_libs/parsers.pyx\u001b[0m in \u001b[0;36mpandas._libs.parsers.TextReader._read_low_memory\u001b[0;34m()\u001b[0m\n",
      "\u001b[0;32mpandas/_libs/parsers.pyx\u001b[0m in \u001b[0;36mpandas._libs.parsers.TextReader._read_rows\u001b[0;34m()\u001b[0m\n",
      "\u001b[0;32mpandas/_libs/parsers.pyx\u001b[0m in \u001b[0;36mpandas._libs.parsers.TextReader._tokenize_rows\u001b[0;34m()\u001b[0m\n",
      "\u001b[0;32mpandas/_libs/parsers.pyx\u001b[0m in \u001b[0;36mpandas._libs.parsers.raise_parser_error\u001b[0;34m()\u001b[0m\n",
      "\u001b[0;31mParserError\u001b[0m: Error tokenizing data. C error: Expected 2 fields in line 9692, saw 3\n"
     ]
    }
   ],
   "source": [
    "incidentes = pd.read_csv('incidentes_viales.csv')"
   ]
  },
  {
   "cell_type": "code",
   "execution_count": 6,
   "metadata": {},
   "outputs": [],
   "source": [
    "df= pd.concat([Inc_2016,Inc_2017,Inc_2018, Inc_2019, Inc_2020])"
   ]
  },
  {
   "cell_type": "code",
   "execution_count": 7,
   "metadata": {},
   "outputs": [
    {
     "data": {
      "text/plain": [
       "Index(['OBJECTID', 'RADICADO', 'FECHA', 'HORA', 'DIA', 'PERIODO', 'CLASE',\n",
       "       'DIRECCION', 'DIRECCION_ENC', 'CBML', 'TIPO_GEOCOD', 'GRAVEDAD',\n",
       "       'BARRIO', 'COMUNA', 'DISENO', 'DIA_NOMBRE', 'MES', 'MES_NOMBRE',\n",
       "       'X_MAGNAMED', 'Y_MAGNAMED', 'LONGITUD', 'LATITUD'],\n",
       "      dtype='object')"
      ]
     },
     "execution_count": 7,
     "metadata": {},
     "output_type": "execute_result"
    }
   ],
   "source": [
    "df.columns"
   ]
  },
  {
   "cell_type": "code",
   "execution_count": 8,
   "metadata": {},
   "outputs": [
    {
     "data": {
      "text/html": [
       "<div>\n",
       "<style scoped>\n",
       "    .dataframe tbody tr th:only-of-type {\n",
       "        vertical-align: middle;\n",
       "    }\n",
       "\n",
       "    .dataframe tbody tr th {\n",
       "        vertical-align: top;\n",
       "    }\n",
       "\n",
       "    .dataframe thead th {\n",
       "        text-align: right;\n",
       "    }\n",
       "</style>\n",
       "<table border=\"1\" class=\"dataframe\">\n",
       "  <thead>\n",
       "    <tr style=\"text-align: right;\">\n",
       "      <th></th>\n",
       "      <th>OBJECTID</th>\n",
       "      <th>RADICADO</th>\n",
       "      <th>FECHA</th>\n",
       "      <th>HORA</th>\n",
       "      <th>DIA</th>\n",
       "      <th>PERIODO</th>\n",
       "      <th>CLASE</th>\n",
       "      <th>DIRECCION</th>\n",
       "      <th>DIRECCION_ENC</th>\n",
       "      <th>CBML</th>\n",
       "      <th>...</th>\n",
       "      <th>BARRIO</th>\n",
       "      <th>COMUNA</th>\n",
       "      <th>DISENO</th>\n",
       "      <th>DIA_NOMBRE</th>\n",
       "      <th>MES</th>\n",
       "      <th>MES_NOMBRE</th>\n",
       "      <th>X_MAGNAMED</th>\n",
       "      <th>Y_MAGNAMED</th>\n",
       "      <th>LONGITUD</th>\n",
       "      <th>LATITUD</th>\n",
       "    </tr>\n",
       "  </thead>\n",
       "  <tbody>\n",
       "    <tr>\n",
       "      <th>0</th>\n",
       "      <td>257034</td>\n",
       "      <td>1517771</td>\n",
       "      <td>1451606400000</td>\n",
       "      <td>06:30 PM</td>\n",
       "      <td>1</td>\n",
       "      <td>2016</td>\n",
       "      <td>Choque</td>\n",
       "      <td>CR 46 A CL 101</td>\n",
       "      <td>CR  046 A   101  000 00000</td>\n",
       "      <td>0209</td>\n",
       "      <td>...</td>\n",
       "      <td>Moscú No. 1</td>\n",
       "      <td>Santa Cruz</td>\n",
       "      <td>Tramo de via</td>\n",
       "      <td>VIERNES</td>\n",
       "      <td>1</td>\n",
       "      <td>NaN</td>\n",
       "      <td>836677.96</td>\n",
       "      <td>1187728.01</td>\n",
       "      <td>-75.553148</td>\n",
       "      <td>6.291689</td>\n",
       "    </tr>\n",
       "    <tr>\n",
       "      <th>1</th>\n",
       "      <td>257035</td>\n",
       "      <td>1517787</td>\n",
       "      <td>1451606400000</td>\n",
       "      <td>02:00 PM</td>\n",
       "      <td>1</td>\n",
       "      <td>2016</td>\n",
       "      <td>Choque</td>\n",
       "      <td>CL 59 CR 133</td>\n",
       "      <td>CL  059   133  000 00000</td>\n",
       "      <td>6000</td>\n",
       "      <td>...</td>\n",
       "      <td>Cabecera Urbana San Cristobal</td>\n",
       "      <td>Corregimiento de San Cristóbal</td>\n",
       "      <td>Tramo de via</td>\n",
       "      <td>VIERNES</td>\n",
       "      <td>1</td>\n",
       "      <td>NaN</td>\n",
       "      <td>827319.09</td>\n",
       "      <td>1185963.47</td>\n",
       "      <td>-75.637704</td>\n",
       "      <td>6.275732</td>\n",
       "    </tr>\n",
       "    <tr>\n",
       "      <th>2</th>\n",
       "      <td>257036</td>\n",
       "      <td>1517780</td>\n",
       "      <td>1451606400000</td>\n",
       "      <td>07:00 PM</td>\n",
       "      <td>1</td>\n",
       "      <td>2016</td>\n",
       "      <td>Caída de Ocupante</td>\n",
       "      <td>Tramo 15</td>\n",
       "      <td>NaN</td>\n",
       "      <td>NaN</td>\n",
       "      <td>...</td>\n",
       "      <td>NaN</td>\n",
       "      <td>NaN</td>\n",
       "      <td>Lote o Predio</td>\n",
       "      <td>VIERNES</td>\n",
       "      <td>1</td>\n",
       "      <td>NaN</td>\n",
       "      <td>820000.00</td>\n",
       "      <td>1180000.00</td>\n",
       "      <td>-75.703816</td>\n",
       "      <td>6.221806</td>\n",
       "    </tr>\n",
       "    <tr>\n",
       "      <th>3</th>\n",
       "      <td>257037</td>\n",
       "      <td>1517740</td>\n",
       "      <td>1451606400000</td>\n",
       "      <td>02:00 AM</td>\n",
       "      <td>1</td>\n",
       "      <td>2016</td>\n",
       "      <td>Atropello</td>\n",
       "      <td>CR 52 CL 120 A</td>\n",
       "      <td>CR  052   120 A  000 00000</td>\n",
       "      <td>0204</td>\n",
       "      <td>...</td>\n",
       "      <td>La Frontera</td>\n",
       "      <td>Santa Cruz</td>\n",
       "      <td>Tramo de via</td>\n",
       "      <td>VIERNES</td>\n",
       "      <td>1</td>\n",
       "      <td>NaN</td>\n",
       "      <td>836392.11</td>\n",
       "      <td>1189281.90</td>\n",
       "      <td>-75.555730</td>\n",
       "      <td>6.305737</td>\n",
       "    </tr>\n",
       "    <tr>\n",
       "      <th>4</th>\n",
       "      <td>257038</td>\n",
       "      <td>1517747</td>\n",
       "      <td>1451606400000</td>\n",
       "      <td>03:30 PM</td>\n",
       "      <td>1</td>\n",
       "      <td>2016</td>\n",
       "      <td>Caída de Ocupante</td>\n",
       "      <td>CR 80 CL 94</td>\n",
       "      <td>CR  080   094  000 00000</td>\n",
       "      <td>0608</td>\n",
       "      <td>...</td>\n",
       "      <td>Picacho</td>\n",
       "      <td>Doce de Octubre</td>\n",
       "      <td>Tramo de via</td>\n",
       "      <td>VIERNES</td>\n",
       "      <td>1</td>\n",
       "      <td>NaN</td>\n",
       "      <td>833333.37</td>\n",
       "      <td>1187927.76</td>\n",
       "      <td>-75.583366</td>\n",
       "      <td>6.293494</td>\n",
       "    </tr>\n",
       "  </tbody>\n",
       "</table>\n",
       "<p>5 rows × 22 columns</p>\n",
       "</div>"
      ],
      "text/plain": [
       "   OBJECTID RADICADO          FECHA      HORA  DIA  PERIODO  \\\n",
       "0    257034  1517771  1451606400000  06:30 PM    1     2016   \n",
       "1    257035  1517787  1451606400000  02:00 PM    1     2016   \n",
       "2    257036  1517780  1451606400000  07:00 PM    1     2016   \n",
       "3    257037  1517740  1451606400000  02:00 AM    1     2016   \n",
       "4    257038  1517747  1451606400000  03:30 PM    1     2016   \n",
       "\n",
       "               CLASE       DIRECCION               DIRECCION_ENC  CBML  ...  \\\n",
       "0             Choque  CR 46 A CL 101  CR  046 A   101  000 00000  0209  ...   \n",
       "1             Choque    CL 59 CR 133    CL  059   133  000 00000  6000  ...   \n",
       "2  Caída de Ocupante        Tramo 15                         NaN   NaN  ...   \n",
       "3          Atropello  CR 52 CL 120 A  CR  052   120 A  000 00000  0204  ...   \n",
       "4  Caída de Ocupante     CR 80 CL 94    CR  080   094  000 00000  0608  ...   \n",
       "\n",
       "                          BARRIO                          COMUNA  \\\n",
       "0                    Moscú No. 1                      Santa Cruz   \n",
       "1  Cabecera Urbana San Cristobal  Corregimiento de San Cristóbal   \n",
       "2                            NaN                             NaN   \n",
       "3                    La Frontera                      Santa Cruz   \n",
       "4                        Picacho                 Doce de Octubre   \n",
       "\n",
       "          DISENO DIA_NOMBRE MES MES_NOMBRE  X_MAGNAMED  Y_MAGNAMED   LONGITUD  \\\n",
       "0   Tramo de via  VIERNES     1        NaN   836677.96  1187728.01 -75.553148   \n",
       "1   Tramo de via  VIERNES     1        NaN   827319.09  1185963.47 -75.637704   \n",
       "2  Lote o Predio  VIERNES     1        NaN   820000.00  1180000.00 -75.703816   \n",
       "3   Tramo de via  VIERNES     1        NaN   836392.11  1189281.90 -75.555730   \n",
       "4   Tramo de via  VIERNES     1        NaN   833333.37  1187927.76 -75.583366   \n",
       "\n",
       "    LATITUD  \n",
       "0  6.291689  \n",
       "1  6.275732  \n",
       "2  6.221806  \n",
       "3  6.305737  \n",
       "4  6.293494  \n",
       "\n",
       "[5 rows x 22 columns]"
      ]
     },
     "execution_count": 8,
     "metadata": {},
     "output_type": "execute_result"
    }
   ],
   "source": [
    "df.head()"
   ]
  },
  {
   "cell_type": "code",
   "execution_count": 49,
   "metadata": {},
   "outputs": [
    {
     "data": {
      "text/plain": [
       "Choque                139301\n",
       "Otro                   23152\n",
       "Atropello              18700\n",
       "Caida Ocupante         16315\n",
       "Volcamiento             8724\n",
       "Caída de Ocupante       1691\n",
       "Incendio                  31\n",
       "Caída Ocupante            17\n",
       "Choque                     3\n",
       "Choque y Atropello         1\n",
       "Name: CLASE, dtype: int64"
      ]
     },
     "execution_count": 49,
     "metadata": {},
     "output_type": "execute_result"
    }
   ],
   "source": [
    "df['CLASE'].value_counts()"
   ]
  },
  {
   "cell_type": "code",
   "execution_count": 9,
   "metadata": {},
   "outputs": [],
   "source": [
    "df['FECHA'] = pd.to_datetime(df['FECHA'],unit='ms')"
   ]
  },
  {
   "cell_type": "code",
   "execution_count": 10,
   "metadata": {},
   "outputs": [
    {
     "data": {
      "text/plain": [
       "0       2016-01-01\n",
       "1       2016-01-01\n",
       "2       2016-01-01\n",
       "3       2016-01-01\n",
       "4       2016-01-01\n",
       "           ...    \n",
       "25374   2020-03-02\n",
       "25375   2020-01-15\n",
       "25376   2020-01-18\n",
       "25377   2020-06-26\n",
       "25378   2020-07-10\n",
       "Name: FECHA, Length: 207940, dtype: datetime64[ns]"
      ]
     },
     "execution_count": 10,
     "metadata": {},
     "output_type": "execute_result"
    }
   ],
   "source": [
    "df['FECHA']"
   ]
  },
  {
   "cell_type": "code",
   "execution_count": 11,
   "metadata": {},
   "outputs": [
    {
     "data": {
      "image/png": "[encoded data removed]",
      "text/plain": [
       "<Figure size 432x288 with 1 Axes>"
      ]
     },
     "metadata": {
      "needs_background": "light"
     },
     "output_type": "display_data"
    }
   ],
   "source": [
    "mes = df['FECHA'].dt.to_period('M')\n",
    "\n",
    "accidentes_mes = df.groupby(mes).size().plot()"
   ]
  },
  {
   "cell_type": "code",
   "execution_count": 12,
   "metadata": {},
   "outputs": [
    {
     "data": {
      "text/plain": [
       "0             06:30 PM\n",
       "1             02:00 PM\n",
       "2             07:00 PM\n",
       "3             02:00 AM\n",
       "4             03:30 PM\n",
       "             ...      \n",
       "25374    6:50:00 a. m.\n",
       "25375    7:00:00 a. m.\n",
       "25376    4:30:00 p. m.\n",
       "25377    3:56:00 a. m.\n",
       "25378    1:10:00 p. m.\n",
       "Name: HORA, Length: 207940, dtype: object"
      ]
     },
     "execution_count": 12,
     "metadata": {},
     "output_type": "execute_result"
    }
   ],
   "source": [
    "df['HORA']"
   ]
  },
  {
   "cell_type": "code",
   "execution_count": 13,
   "metadata": {},
   "outputs": [],
   "source": [
    "df['HORA'] = df['HORA'].str.replace('a. m.','AM')\n",
    "df['HORA'] = df['HORA'].str.replace('p. m.','PM')"
   ]
  },
  {
   "cell_type": "code",
   "execution_count": 14,
   "metadata": {},
   "outputs": [
    {
     "data": {
      "text/plain": [
       "0          06:30 PM\n",
       "1          02:00 PM\n",
       "2          07:00 PM\n",
       "3          02:00 AM\n",
       "4          03:30 PM\n",
       "            ...    \n",
       "25374    6:50:00 AM\n",
       "25375    7:00:00 AM\n",
       "25376    4:30:00 PM\n",
       "25377    3:56:00 AM\n",
       "25378    1:10:00 PM\n",
       "Name: HORA, Length: 207940, dtype: object"
      ]
     },
     "execution_count": 14,
     "metadata": {},
     "output_type": "execute_result"
    }
   ],
   "source": [
    "df['HORA']"
   ]
  },
  {
   "cell_type": "code",
   "execution_count": 15,
   "metadata": {},
   "outputs": [
    {
     "data": {
      "text/plain": [
       "0        18:30:00\n",
       "1        14:00:00\n",
       "2        19:00:00\n",
       "3        02:00:00\n",
       "4        15:30:00\n",
       "           ...   \n",
       "25374    06:50:00\n",
       "25375    07:00:00\n",
       "25376    16:30:00\n",
       "25377    03:56:00\n",
       "25378    13:10:00\n",
       "Name: HORA, Length: 207940, dtype: object"
      ]
     },
     "execution_count": 15,
     "metadata": {},
     "output_type": "execute_result"
    }
   ],
   "source": [
    "pd.to_datetime(df['HORA']).dt.strftime('%H:%M:%S')"
   ]
  },
  {
   "cell_type": "code",
   "execution_count": 16,
   "metadata": {},
   "outputs": [],
   "source": [
    "df['HORA'] = pd.to_datetime(df['HORA'])\n",
    "\n",
    "df['HORAS'] = df['HORA'].dt.hour\n"
   ]
  },
  {
   "cell_type": "code",
   "execution_count": 17,
   "metadata": {},
   "outputs": [
    {
     "data": {
      "text/plain": [
       "<AxesSubplot:xlabel='HORAS'>"
      ]
     },
     "execution_count": 17,
     "metadata": {},
     "output_type": "execute_result"
    },
    {
     "data": {
      "image/png": "[encoded data removed]",
      "text/plain": [
       "<Figure size 432x288 with 1 Axes>"
      ]
     },
     "metadata": {
      "needs_background": "light"
     },
     "output_type": "display_data"
    }
   ],
   "source": [
    "accidentes_por_hora = df.groupby('HORAS').size()\n",
    "accidentes_por_hora.plot.bar()"
   ]
  },
  {
   "cell_type": "code",
   "execution_count": 18,
   "metadata": {},
   "outputs": [
    {
     "data": {
      "text/plain": [
       "VIERNES      33217\n",
       "MARTES       32445\n",
       "MIÉRCOLES    31521\n",
       "JUEVES       31215\n",
       "LUNES        29998\n",
       "SÁBADO       29879\n",
       "DOMINGO      19665\n",
       "Name: DIA_NOMBRE, dtype: int64"
      ]
     },
     "execution_count": 18,
     "metadata": {},
     "output_type": "execute_result"
    }
   ],
   "source": [
    "df['DIA_NOMBRE'].value_counts()"
   ]
  },
  {
   "cell_type": "code",
   "execution_count": 19,
   "metadata": {},
   "outputs": [
    {
     "data": {
      "image/png": "[encoded data removed]",
      "text/plain": [
       "<Figure size 432x288 with 1 Axes>"
      ]
     },
     "metadata": {
      "needs_background": "light"
     },
     "output_type": "display_data"
    }
   ],
   "source": [
    "dia_accidentes = df.groupby('DIA_NOMBRE',sort=False).size().plot(kind='bar')"
   ]
  },
  {
   "cell_type": "markdown",
   "metadata": {},
   "source": [
    "# numero de accidentes por cada Barrio."
   ]
  },
  {
   "cell_type": "code",
   "execution_count": 21,
   "metadata": {},
   "outputs": [],
   "source": [
    "df['COMUNA'] = df['COMUNA'].value_counts()[:10]#.sort_values(ascending=False)"
   ]
  },
  {
   "cell_type": "code",
   "execution_count": 22,
   "metadata": {},
   "outputs": [
    {
     "name": "stdout",
     "output_type": "stream",
     "text": [
      "<class 'pandas.core.frame.DataFrame'>\n",
      "Int64Index: 207940 entries, 0 to 25378\n",
      "Data columns (total 23 columns):\n",
      " #   Column         Non-Null Count   Dtype         \n",
      "---  ------         --------------   -----         \n",
      " 0   OBJECTID       207940 non-null  int64         \n",
      " 1   RADICADO       207935 non-null  object        \n",
      " 2   FECHA          207940 non-null  datetime64[ns]\n",
      " 3   HORA           207940 non-null  datetime64[ns]\n",
      " 4   DIA            207940 non-null  int64         \n",
      " 5   PERIODO        207940 non-null  int64         \n",
      " 6   CLASE          207935 non-null  object        \n",
      " 7   DIRECCION      207940 non-null  object        \n",
      " 8   DIRECCION_ENC  207317 non-null  object        \n",
      " 9   CBML           193719 non-null  object        \n",
      " 10  TIPO_GEOCOD    207940 non-null  object        \n",
      " 11  GRAVEDAD       207940 non-null  object        \n",
      " 12  BARRIO         193114 non-null  object        \n",
      " 13  COMUNA         0 non-null       float64       \n",
      " 14  DISENO         207204 non-null  object        \n",
      " 15  DIA_NOMBRE     207940 non-null  object        \n",
      " 16  MES            207940 non-null  int64         \n",
      " 17  MES_NOMBRE     71174 non-null   object        \n",
      " 18  X_MAGNAMED     207940 non-null  float64       \n",
      " 19  Y_MAGNAMED     207940 non-null  float64       \n",
      " 20  LONGITUD       207940 non-null  float64       \n",
      " 21  LATITUD        207940 non-null  float64       \n",
      " 22  HORAS          207940 non-null  int64         \n",
      "dtypes: datetime64[ns](2), float64(5), int64(5), object(11)\n",
      "memory usage: 38.1+ MB\n"
     ]
    }
   ],
   "source": [
    "df.info()"
   ]
  },
  {
   "cell_type": "code",
   "execution_count": 23,
   "metadata": {},
   "outputs": [
    {
     "data": {
      "text/plain": [
       "<bound method Series.mode of 0                          Moscú No. 1\n",
       "1        Cabecera Urbana San Cristobal\n",
       "2                                  NaN\n",
       "3                          La Frontera\n",
       "4                              Picacho\n",
       "                     ...              \n",
       "25374                      Moscú No. 2\n",
       "25375           U.D. Atanasio Girardot\n",
       "25376                   Cerro Nutibara\n",
       "25377                   Jesús Nazareno\n",
       "25378                        Guayaquil\n",
       "Name: BARRIO, Length: 207940, dtype: object>"
      ]
     },
     "execution_count": 23,
     "metadata": {},
     "output_type": "execute_result"
    }
   ],
   "source": [
    "df['BARRIO'].mode"
   ]
  },
  {
   "cell_type": "code",
   "execution_count": 24,
   "metadata": {},
   "outputs": [
    {
     "data": {
      "text/plain": [
       "Series([], Name: COMUNA, dtype: float64)"
      ]
     },
     "execution_count": 24,
     "metadata": {},
     "output_type": "execute_result"
    }
   ],
   "source": [
    "df['COMUNA'].dropna()"
   ]
  },
  {
   "cell_type": "code",
   "execution_count": 26,
   "metadata": {},
   "outputs": [],
   "source": [
    "#accidentes_comuna = df.groupby('COMUNA').size().nlargest(20)\n",
    "#accidentes_comuna.plot.bar()"
   ]
  },
  {
   "cell_type": "markdown",
   "metadata": {},
   "source": [
    "GroupBy pandas DataFrame and select most common value,\n",
    "\n",
    "https://www.xspdf.com/resolution/50925876.html\n",
    "\n"
   ]
  },
  {
   "cell_type": "code",
   "execution_count": 27,
   "metadata": {},
   "outputs": [
    {
     "data": {
      "text/plain": [
       "<AxesSubplot:xlabel='BARRIO'>"
      ]
     },
     "execution_count": 27,
     "metadata": {},
     "output_type": "execute_result"
    },
    {
     "data": {
      "image/png": "[encoded data removed]",
      "text/plain": [
       "<Figure size 432x288 with 1 Axes>"
      ]
     },
     "metadata": {
      "needs_background": "light"
     },
     "output_type": "display_data"
    }
   ],
   "source": [
    "accidentes_barrios = df.groupby('BARRIO').size().nlargest(20)\n",
    "accidentes_barrios.plot.bar()"
   ]
  },
  {
   "cell_type": "code",
   "execution_count": 46,
   "metadata": {},
   "outputs": [],
   "source": [
    "def create_geojson_features(df):\n",
    "    features = []\n",
    "    for _, row in df.iterrows():\n",
    "        feature ={\n",
    "            'type': 'Feature',\n",
    "            'geometry':{\n",
    "                'type':'Point',\n",
    "                'coordinates':[row['LONGITUDE'],row['LATITUDE']]\n",
    "            \n",
    "            }\n",
    "         \n",
    "            \n",
    "            \n",
    "        } \n",
    "        features.append(feature)\n",
    "    return features\n",
    "    start_geojson[0]"
   ]
  },
  {
   "cell_type": "code",
   "execution_count": 40,
   "metadata": {},
   "outputs": [],
   "source": [
    "Medellin_map = folium.Map(location = [6.25184, -75.56359],zoom_start = 12)"
   ]
  },
  {
   "cell_type": "code",
   "execution_count": 41,
   "metadata": {},
   "outputs": [
    {
     "data": {
      "text/html": [
       "<div style=\"width:100%;\"><div style=\"position:relative;width:100%;height:0;padding-bottom:60%;\"><span style=\"color:#565656\">Make this Notebook Trusted to load map: File -> Trust Notebook</span><iframe src=\"about:blank\" style=\"position:absolute;width:100%;height:100%;left:0;top:0;border:none !important;\" data-html=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 onload=\"this.contentDocument.open();this.contentDocument.write(atob(this.getAttribute('data-html')));this.contentDocument.close();\" allowfullscreen webkitallowfullscreen mozallowfullscreen></iframe></div></div>"
      ],
      "text/plain": [
       "<folium.folium.Map at 0x11cdad730>"
      ]
     },
     "execution_count": 41,
     "metadata": {},
     "output_type": "execute_result"
    }
   ],
   "source": [
    "Medellin_map"
   ]
  },
  {
   "cell_type": "code",
   "execution_count": 63,
   "metadata": {},
   "outputs": [
    {
     "ename": "SyntaxError",
     "evalue": "invalid syntax (<ipython-input-63-e5f875e9d3b1>, line 1)",
     "output_type": "error",
     "traceback": [
      "\u001b[0;36m  File \u001b[0;32m\"<ipython-input-63-e5f875e9d3b1>\"\u001b[0;36m, line \u001b[0;32m1\u001b[0m\n\u001b[0;31m    df.apply(lambda row:folium.CircleMarker(location=[row[\"LATITUD\"], row[\"LONGITUD\"]])if(row['CLASE'].str.contains('Atropello')).add_to(Medellin_map), axis=1)\u001b[0m\n\u001b[0m                                                                                                                                                      ^\u001b[0m\n\u001b[0;31mSyntaxError\u001b[0m\u001b[0;31m:\u001b[0m invalid syntax\n"
     ]
    }
   ],
   "source": [
    "df.apply(lambda row:folium.CircleMarker(location=[row[\"LATITUD\"], row[\"LONGITUD\"]])if(row['CLASE'].str.contains('Atropello')).add_to(Medellin_map), axis=1)\n"
   ]
  },
  {
   "cell_type": "code",
   "execution_count": null,
   "metadata": {},
   "outputs": [],
   "source": [
    "data['Activity].str.contains('skin diving')\n"
   ]
  }
 ],
 "metadata": {
  "kernelspec": {
   "display_name": "Python 3",
   "language": "python",
   "name": "python3"
  },
  "language_info": {
   "codemirror_mode": {
    "name": "ipython",
    "version": 3
   },
   "file_extension": ".py",
   "mimetype": "text/x-python",
   "name": "python",
   "nbconvert_exporter": "python",
   "pygments_lexer": "ipython3",
   "version": "3.8.5"
  }
 },
 "nbformat": 4,
 "nbformat_minor": 2
}
